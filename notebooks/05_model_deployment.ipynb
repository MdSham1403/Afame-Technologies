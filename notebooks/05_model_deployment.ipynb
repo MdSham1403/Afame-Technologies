{
 "cells": [
  {
   "cell_type": "code",
   "execution_count": 6,
   "id": "8eac3622-a9b5-44f0-9195-c3411b322c6d",
   "metadata": {},
   "outputs": [
    {
     "name": "stdout",
     "output_type": "stream",
     "text": [
      "2.2.5\n",
      "1.2.0\n"
     ]
    }
   ],
   "source": [
    "import flask\n",
    "import joblib\n",
    "\n",
    "print(flask.__version__)\n",
    "print(joblib.__version__)"
   ]
  },
  {
   "cell_type": "code",
   "execution_count": 8,
   "id": "3d62c24e-5699-42e6-bccb-1cf1a22f3011",
   "metadata": {},
   "outputs": [
    {
     "name": "stdout",
     "output_type": "stream",
     "text": [
      "Libraries imported successfully!\n"
     ]
    }
   ],
   "source": [
    "import joblib\n",
    "from flask import Flask\n",
    "\n",
    "print(\"Libraries imported successfully!\")"
   ]
  },
  {
   "cell_type": "code",
   "execution_count": 16,
   "id": "f2c1f3d2-ace2-4f70-8ce4-397e3b30c22b",
   "metadata": {},
   "outputs": [
    {
     "name": "stdout",
     "output_type": "stream",
     "text": [
      "Prediction: ham\n"
     ]
    }
   ],
   "source": [
    "import joblib\n",
    "\n",
    "# Load the model and TF-IDF vectorizer\n",
    "model = joblib.load('../models/spam_sms_model.pkl')\n",
    "tfidf = joblib.load('../models/tfidf_vectorizer.pkl')\n",
    "\n",
    "# Test the model with a sample message\n",
    "sample_message = \"Free entry in 2 a wkly comp to win FA Cup final tkts 21st May 2005. Text FA to 87121 to receive entry question(std txt rate)T&Cs apply 08452810075over18s\"\n",
    "sample_message_transformed = tfidf.transform([sample_message])\n",
    "sample_message_transformed_dense = sample_message_transformed.toarray()  # Convert to dense format\n",
    "prediction = model.predict(sample_message_transformed_dense)\n",
    "print('Prediction:', 'spam' if prediction[0] == 1 else 'ham')"
   ]
  },
  {
   "cell_type": "code",
   "execution_count": null,
   "id": "bbeb8fa1-00d8-4f34-892d-96b36f90c825",
   "metadata": {},
   "outputs": [],
   "source": []
  }
 ],
 "metadata": {
  "kernelspec": {
   "display_name": "Python 3 (ipykernel)",
   "language": "python",
   "name": "python3"
  },
  "language_info": {
   "codemirror_mode": {
    "name": "ipython",
    "version": 3
   },
   "file_extension": ".py",
   "mimetype": "text/x-python",
   "name": "python",
   "nbconvert_exporter": "python",
   "pygments_lexer": "ipython3",
   "version": "3.10.9"
  }
 },
 "nbformat": 4,
 "nbformat_minor": 5
}
